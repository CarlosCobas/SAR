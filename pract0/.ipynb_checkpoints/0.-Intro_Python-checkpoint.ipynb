{
 "cells": [
  {
   "cell_type": "markdown",
   "metadata": {
    "collapsed": true
   },
   "source": [
    "# Introducción a Python\n",
    "\n",
    "## Inicios de Python\n",
    "\n",
    "* Python (python.org) fue desarrollado por Guido Van Rossum en el centro de investigación CWI en Holanda.\n",
    "* Guido se basó en su trabajo anterior con el lenguaje ABC.\n",
    "\n",
    "\n",
    "## ¿Por qué se llama Python?\n",
    "\n",
    "Al mismo tiempo que comenzó a implementar Python, Guido van Rossum estaba leyendo los guiones de \"Monty Python's Flying Circus\" (una serie de comedia de los setenta, por si no la conoces). \n",
    "<img src=\"imgs/montypython03.jpg\">\n",
    "\n",
    "## Características de Python\n",
    "\n",
    "* Proyecto de código abierto, administrado por la Python Software Foundation\n",
    "\n",
    "* Multiplataforma\n",
    "\n",
    "* Python standard library (extensa librería de módulos) http://docs.python.org/3/library/index.html\n",
    "\n",
    "* Interpretado. Se compila un bytecode para una máquina virtual.\n",
    "\n",
    "* Orientado a objetos. Todo en Python es un objeto.\n",
    "\n",
    "* Sin declaración explicita de constantes ni variables.\n",
    "\n",
    "* De propósito general\n",
    "\n",
    "* Simple y Fácil de aprender :-) \n",
    "\n",
    "* Sintaxis clara\n",
    "\n",
    "* Extensible con C y C++ (SWIG, sip o Pyrex)‏\n",
    "\n",
    "* Empotrable en C y C++\n",
    "\n",
    "* Jython: Python dentro de una JVM\n",
    "\n",
    "* Interactivo \n",
    "\n",
    "* Mayor verificación de errores que C\n",
    "\n",
    "* Dos grandes ramas: Python 2.x y Python 3.x\n",
    "\n",
    "* Compatible hacia atrás dentro de la misma rama.\n",
    "\n",
    "* Elementos de C, Lisp, Modula-3\n",
    "\n",
    "* Facil creación de GUI (interfaz gráfica de usuario) con: Tk, GTK, QT, …\n",
    "\n",
    "* Lenguaje de macros de otras aplicaciones: OpenOffice/LibreOffice, Koffice, XMBC, …\n",
    "\n",
    "\n",
    "## ¿Quién utiliza Python?\n",
    "(https://www.python.org/about/success/)\n",
    "\n",
    "* Google (Guido van Rossum trabaja actualmente en Google)\n",
    "\n",
    "* Yahoo\n",
    "\n",
    "* NASA\n",
    "\n",
    "* Walt Disney\n",
    "\n",
    "* Industrial Light & Magic\n",
    "\n",
    "* Zope\n",
    "\n",
    "* ...\n",
    "\n",
    "\n"
   ]
  },
  {
   "cell_type": "code",
   "execution_count": null,
   "metadata": {},
   "outputs": [],
   "source": [
    "INTERACTION = False"
   ]
  },
  {
   "cell_type": "markdown",
   "metadata": {
    "slideshow": {
     "slide_type": "-"
    }
   },
   "source": [
    "# Python interactivo: una estupenda calculadora"
   ]
  },
  {
   "cell_type": "markdown",
   "metadata": {},
   "source": [
    "## Keywords en Python 3"
   ]
  },
  {
   "cell_type": "raw",
   "metadata": {},
   "source": [
    "False, None, True, and, as, assert, break, class, continue, def, del, elif,\n",
    "else, except, finally, for, from, global, if, import, in, is, lambda,\n",
    "nonlocal, not, or, pass, raise, return, try, while, with, yield"
   ]
  },
  {
   "cell_type": "markdown",
   "metadata": {},
   "source": [
    "# Las dos primeras líneas de un programa en Python"
   ]
  },
  {
   "cell_type": "code",
   "execution_count": null,
   "metadata": {},
   "outputs": [],
   "source": [
    "#!/usr/bin/env python\n",
    "#! -*- encoding: utf8 -*-"
   ]
  },
  {
   "cell_type": "markdown",
   "metadata": {},
   "source": [
    "## Características de Python\n"
   ]
  },
  {
   "cell_type": "code",
   "execution_count": null,
   "metadata": {
    "slideshow": {
     "slide_type": "-"
    }
   },
   "outputs": [],
   "source": [
    "# Los bloques de código vienen marcados por el sangrado (la indentación)\n",
    "for i in range(1,11):\n",
    "    resto = i % 2\n",
    "    if resto == 0:\n",
    "        print(\"%i es par\" % i)\n",
    "print(\"fin del bucle\")"
   ]
  },
  {
   "cell_type": "markdown",
   "metadata": {
    "collapsed": true
   },
   "source": [
    "## Características de Python\n",
    "\n",
    "* Una sentencia por línea.\n",
    "  - No se utiliza separadores de línea.\n",
    "* Una sentencia en varias líneas.\n",
    "  - ‘\\’ al final de línea.\n",
    "  - Listas, tuplas y diccionarios pueden seguir en varias líneas sin marca de final de línea.\n",
    "* Varias sentencias en la misma línea (‘;’). "
   ]
  },
  {
   "cell_type": "markdown",
   "metadata": {
    "collapsed": true
   },
   "source": [
    "## Algunos tipos de datos en Python 3\n",
    "\n",
    "* Números: enteros, reales, complejos y fracciones\n",
    "* Secuencias: cadenas, listas y tuplas\n",
    "* Diccionarios\n",
    "* Conjuntos\n",
    "\n",
    "\n",
    "* Ficheros\n",
    "* Clases\n",
    "* Instancias\n",
    "* Excepciones"
   ]
  },
  {
   "cell_type": "markdown",
   "metadata": {
    "collapsed": true
   },
   "source": [
    "## Tipos de datos en Python\n",
    "\n",
    "* Números:\n",
    "  - Enteros (**int**)\n",
    "    - No tienen limite de tamaño.\n",
    "    \n",
    "    \n",
    "  - Reales (**float**): 3.5\n",
    "    - Implementados usando los double de C. (sys.float_info)\n",
    "    \n",
    "    \n",
    "  - Otros tipos numéricos:\n",
    "    - Complejos (complex): 2+3j\n",
    "    - Fracciones (fractions).\n",
    "    - Reales con precisión configurable (decimals)."
   ]
  },
  {
   "cell_type": "code",
   "execution_count": null,
   "metadata": {},
   "outputs": [],
   "source": [
    "import sys\n",
    "sys.float_info"
   ]
  },
  {
   "cell_type": "code",
   "execution_count": null,
   "metadata": {},
   "outputs": [],
   "source": [
    "int('110')"
   ]
  },
  {
   "cell_type": "code",
   "execution_count": null,
   "metadata": {},
   "outputs": [],
   "source": [
    "int('110', 2)"
   ]
  },
  {
   "cell_type": "markdown",
   "metadata": {
    "collapsed": true
   },
   "source": [
    "## Tipos de datos en Python\n",
    "\n",
    "* Secuencias:\n",
    "  - Cadenas\n",
    "  - Listas\n",
    "  - Tuplas\n",
    "  - bytes\n",
    "  - bytearray\n",
    "\n",
    "\n",
    "* Diccionarios: mapping types (hash)\n",
    "\n",
    "\n",
    "* Conjuntos:\n",
    "  - set\n",
    "  - frozenset\n",
    "\n",
    "\n",
    "* Ficheros"
   ]
  },
  {
   "cell_type": "markdown",
   "metadata": {
    "collapsed": true
   },
   "source": [
    "## Tipos de datos en Python\n",
    "\n",
    "* No modificables (inmutables):\n",
    "  - Enteros: 4\n",
    "  - Reales: 3.5\n",
    "  - Complejos: 2+3j\n",
    "  - Cadenas\n",
    "  - Tuplas\n",
    "  - bytes\n",
    "  - frozenset\n",
    "\n",
    "\n",
    "* Modificables (mutables):\n",
    "  - Listas\n",
    "  - Conjuntos: set\n",
    "  - Diccionarios: mapping types\n",
    "  - bytearray"
   ]
  },
  {
   "cell_type": "markdown",
   "metadata": {},
   "source": [
    "## Asignación de valores\n",
    "\n",
    ">No hay definición de variables antes de la asignación de valores.\n",
    "\n",
    ">La asignación de valores se realiza utilizando **=**\n",
    "\n",
    ">Se pueden realizar asignaciones múltiples."
   ]
  },
  {
   "cell_type": "code",
   "execution_count": null,
   "metadata": {
    "slideshow": {
     "slide_type": "-"
    }
   },
   "outputs": [],
   "source": [
    "# Asignación de valores\n",
    "\n",
    "a = 3\n",
    "x,y = \"mesa\", \"cuadrada\"\n",
    "x,y = y,x\n",
    "x=y=z= \"grial\""
   ]
  },
  {
   "cell_type": "markdown",
   "metadata": {
    "collapsed": true
   },
   "source": [
    "## Tipos de datos en Python\n",
    "\n",
    "* type(objeto)\n",
    "\n",
    "* id(objeto)\n",
    "\n",
    "* objeto == objeto\n",
    "\n",
    "* objeto is objeto"
   ]
  },
  {
   "cell_type": "code",
   "execution_count": null,
   "metadata": {},
   "outputs": [],
   "source": [
    "a = [\"grial\"]\n",
    "b = [\"gri\" + \"al\"]"
   ]
  },
  {
   "cell_type": "code",
   "execution_count": null,
   "metadata": {},
   "outputs": [],
   "source": [
    "type(a)"
   ]
  },
  {
   "cell_type": "code",
   "execution_count": null,
   "metadata": {},
   "outputs": [],
   "source": [
    "type(b)"
   ]
  },
  {
   "cell_type": "code",
   "execution_count": null,
   "metadata": {},
   "outputs": [],
   "source": [
    "id(a)"
   ]
  },
  {
   "cell_type": "code",
   "execution_count": null,
   "metadata": {},
   "outputs": [],
   "source": [
    "id(b)"
   ]
  },
  {
   "cell_type": "code",
   "execution_count": null,
   "metadata": {},
   "outputs": [],
   "source": [
    "a == b"
   ]
  },
  {
   "cell_type": "code",
   "execution_count": null,
   "metadata": {},
   "outputs": [],
   "source": [
    "a is b"
   ]
  },
  {
   "cell_type": "code",
   "execution_count": null,
   "metadata": {},
   "outputs": [],
   "source": [
    "a[0] is b[0]"
   ]
  },
  {
   "cell_type": "markdown",
   "metadata": {
    "collapsed": true
   },
   "source": [
    "## Números\n",
    "\n",
    "Son objetos no modificables:"
   ]
  },
  {
   "cell_type": "code",
   "execution_count": null,
   "metadata": {},
   "outputs": [],
   "source": [
    "a = 10\n",
    "b = a\n",
    "id(a), id(b)"
   ]
  },
  {
   "cell_type": "code",
   "execution_count": null,
   "metadata": {},
   "outputs": [],
   "source": [
    "b = b + 10\n",
    "id(a), id(b)"
   ]
  },
  {
   "cell_type": "markdown",
   "metadata": {
    "collapsed": true
   },
   "source": [
    "Conversión implícita de tipo:"
   ]
  },
  {
   "cell_type": "code",
   "execution_count": null,
   "metadata": {},
   "outputs": [],
   "source": [
    "a = 10\n",
    "b = 3\n",
    "c = a / b\n",
    "c"
   ]
  },
  {
   "cell_type": "markdown",
   "metadata": {
    "collapsed": true
   },
   "source": [
    "## Números: Asignación de valores\n",
    "\n",
    "* +=\n",
    "* -=\n",
    "* *=\n",
    "* /=\n",
    "* **=\n",
    "* //=\n",
    "* %="
   ]
  },
  {
   "cell_type": "code",
   "execution_count": null,
   "metadata": {},
   "outputs": [],
   "source": [
    "a = 25.3 ; print(a)\n",
    "a += 3 ; print(a)\n",
    "a -= 10 ; print(a)\n",
    "a *= 2.5 ; print(a)\n",
    "a /= 5 ; print(a)\n",
    "a **= 2 ; print(a)\n",
    "a //= 10 ; print(a)"
   ]
  },
  {
   "cell_type": "markdown",
   "metadata": {
    "collapsed": true
   },
   "source": [
    "## Cadenas\n",
    "\n",
    "* Son secuencias no modificables de caracteres.\n",
    "\n",
    "* No existe el tipo char. \n",
    "\n",
    "* Se definen usando comillas (simples o dobles)."
   ]
  },
  {
   "cell_type": "code",
   "execution_count": null,
   "metadata": {},
   "outputs": [],
   "source": [
    "a = 'los caballeros de la mesa cuadrada'\n",
    "b = \"y ahora algo totalmente diferente\"\n",
    "c = \"     Learning Python, Ed. O'Reilly Media \"\n",
    "d = 'x'\n",
    "e = 'spam'"
   ]
  },
  {
   "cell_type": "markdown",
   "metadata": {
    "collapsed": true
   },
   "source": [
    "## Cadenas\n",
    " \n",
    "### Operadores sobre secuencias:\n",
    "\n",
    "* \\+ (concatenación)\n",
    "* \\* (repetición de la cadena) \n",
    "* in, not in (está en) \n",
    "* cad[a] (subcadena de un carácter) \n",
    "* cad[a:b] (subcadena) \n",
    "* cad[a:b:c] (subcadena con salto !=1)\n",
    "\n",
    "\n",
    "* len(cad) (longitud de la cadena) \n",
    "* min(cad) (carácter \"menor\") \n",
    "* max(cad) (carácter \"mayor) \n",
    "* comparativas lógicas (<, >, <=, >=, <>)"
   ]
  },
  {
   "cell_type": "code",
   "execution_count": null,
   "metadata": {},
   "outputs": [],
   "source": [
    "a + '-' + b"
   ]
  },
  {
   "cell_type": "code",
   "execution_count": null,
   "metadata": {},
   "outputs": [],
   "source": [
    "e * 3"
   ]
  },
  {
   "cell_type": "code",
   "execution_count": null,
   "metadata": {},
   "outputs": [],
   "source": [
    "'mesa' in a"
   ]
  },
  {
   "cell_type": "code",
   "execution_count": null,
   "metadata": {},
   "outputs": [],
   "source": [
    "'mesa' in b"
   ]
  },
  {
   "cell_type": "code",
   "execution_count": null,
   "metadata": {},
   "outputs": [],
   "source": [
    "a[2] # el primer carácter de la cadena ocupa la posición 0"
   ]
  },
  {
   "cell_type": "code",
   "execution_count": null,
   "metadata": {},
   "outputs": [],
   "source": [
    "a[4:14] # no incluye el carácter de la posición 14"
   ]
  },
  {
   "cell_type": "code",
   "execution_count": null,
   "metadata": {},
   "outputs": [],
   "source": [
    "a[4:14:2] #coge uno de cada 2 caracteres"
   ]
  },
  {
   "cell_type": "code",
   "execution_count": null,
   "metadata": {},
   "outputs": [],
   "source": [
    "len(a)"
   ]
  },
  {
   "cell_type": "code",
   "execution_count": null,
   "metadata": {},
   "outputs": [],
   "source": [
    "min(b)"
   ]
  },
  {
   "cell_type": "code",
   "execution_count": null,
   "metadata": {},
   "outputs": [],
   "source": [
    "max(a)"
   ]
  },
  {
   "cell_type": "code",
   "execution_count": null,
   "metadata": {},
   "outputs": [],
   "source": [
    "d > c"
   ]
  },
  {
   "cell_type": "markdown",
   "metadata": {},
   "source": [
    "## Cadenas\n",
    "\n",
    "### Métodos de cadenas:\n",
    "\n",
    "* lower()  \n",
    "* upper() \n",
    "* replace(old, new[, count]) \n",
    "* center(width[, fillchar]) \n",
    "* ljust(width[, fillchar]) \n",
    "* rjust(width[, fillchar]) \n",
    "* zfill(width) \n",
    "\n",
    "\n",
    "* count(sub[, start[, end]])\n",
    "* startswith(prefix[, start[, end]])\n",
    "* endswith(suffix[, start[, end]])\n",
    "* find(sub[, start[, end]])\n",
    "* rfind(sub [,start [,end]])\n",
    "* index(sub[, start[, end]])\n",
    "* rindex(sub[, start[, end]])"
   ]
  },
  {
   "cell_type": "code",
   "execution_count": null,
   "metadata": {},
   "outputs": [],
   "source": [
    "a = 'los caballeros de la mesa cuadrada'\n",
    "b = \"y ahora algo totalmente diferente\"\n",
    "c = \"     Learning Python, Ed. O'Reilly Media \"\n",
    "d = 'x'\n",
    "e = 'spam'"
   ]
  },
  {
   "cell_type": "code",
   "execution_count": null,
   "metadata": {},
   "outputs": [],
   "source": [
    "a.upper()"
   ]
  },
  {
   "cell_type": "code",
   "execution_count": null,
   "metadata": {},
   "outputs": [],
   "source": [
    "c.lower()"
   ]
  },
  {
   "cell_type": "code",
   "execution_count": null,
   "metadata": {},
   "outputs": [],
   "source": [
    "b.replace('te', 'SPAM')"
   ]
  },
  {
   "cell_type": "code",
   "execution_count": null,
   "metadata": {},
   "outputs": [],
   "source": [
    "d.center(10)"
   ]
  },
  {
   "cell_type": "code",
   "execution_count": null,
   "metadata": {},
   "outputs": [],
   "source": [
    "d.ljust(10,'-')"
   ]
  },
  {
   "cell_type": "code",
   "execution_count": null,
   "metadata": {},
   "outputs": [],
   "source": [
    "d.rjust(10,'-')"
   ]
  },
  {
   "cell_type": "code",
   "execution_count": null,
   "metadata": {},
   "outputs": [],
   "source": [
    "d.zfill(10)"
   ]
  },
  {
   "cell_type": "code",
   "execution_count": null,
   "metadata": {},
   "outputs": [],
   "source": [
    "a.count('a')"
   ]
  },
  {
   "cell_type": "code",
   "execution_count": null,
   "metadata": {},
   "outputs": [],
   "source": [
    "b.startswith('los')"
   ]
  },
  {
   "cell_type": "code",
   "execution_count": null,
   "metadata": {},
   "outputs": [],
   "source": [
    "a.startswith('los')"
   ]
  },
  {
   "cell_type": "code",
   "execution_count": null,
   "metadata": {},
   "outputs": [],
   "source": [
    "a.endswith('.txt')"
   ]
  },
  {
   "cell_type": "code",
   "execution_count": null,
   "metadata": {},
   "outputs": [],
   "source": [
    "a.endswith('drada')"
   ]
  },
  {
   "cell_type": "code",
   "execution_count": null,
   "metadata": {},
   "outputs": [],
   "source": [
    "b.find('algo')"
   ]
  },
  {
   "cell_type": "code",
   "execution_count": null,
   "metadata": {},
   "outputs": [],
   "source": [
    "b.find('spam')"
   ]
  },
  {
   "cell_type": "code",
   "execution_count": null,
   "metadata": {},
   "outputs": [],
   "source": [
    "b.rfind('t')"
   ]
  },
  {
   "cell_type": "code",
   "execution_count": null,
   "metadata": {},
   "outputs": [],
   "source": [
    "b.index('algo')"
   ]
  },
  {
   "cell_type": "code",
   "execution_count": null,
   "metadata": {},
   "outputs": [],
   "source": [
    "try:\n",
    "    b.index('spam')\n",
    "except ValueError as exp:\n",
    "    print('Exception:', exp)"
   ]
  },
  {
   "cell_type": "markdown",
   "metadata": {},
   "source": [
    "## Cadenas\n",
    "\n",
    "### Métodos de cadenas:\n",
    "\n",
    "* split([sep [,maxsplit]]) \n",
    "* rsplit([sep [,maxsplit]]) \n",
    "* join(seq) \n",
    "\n",
    "\n",
    "* strip([chars]) \n",
    "* lstrip([chars]) \n",
    "* rstrip([chars]) "
   ]
  },
  {
   "cell_type": "code",
   "execution_count": null,
   "metadata": {},
   "outputs": [],
   "source": [
    "t = a.split()\n",
    "t # t es una lista. Ahora las vemos :-)"
   ]
  },
  {
   "cell_type": "code",
   "execution_count": null,
   "metadata": {},
   "outputs": [],
   "source": [
    "'*'.join(t)"
   ]
  },
  {
   "cell_type": "code",
   "execution_count": null,
   "metadata": {},
   "outputs": [],
   "source": [
    "'*'.join(a.split())"
   ]
  },
  {
   "cell_type": "code",
   "execution_count": null,
   "metadata": {},
   "outputs": [],
   "source": [
    "a.split(' ',2)"
   ]
  },
  {
   "cell_type": "code",
   "execution_count": null,
   "metadata": {},
   "outputs": [],
   "source": [
    "a.rsplit(' ',2)"
   ]
  },
  {
   "cell_type": "code",
   "execution_count": null,
   "metadata": {},
   "outputs": [],
   "source": [
    "c"
   ]
  },
  {
   "cell_type": "code",
   "execution_count": null,
   "metadata": {},
   "outputs": [],
   "source": [
    "c.strip()"
   ]
  },
  {
   "cell_type": "code",
   "execution_count": null,
   "metadata": {},
   "outputs": [],
   "source": [
    "c.lstrip()"
   ]
  },
  {
   "cell_type": "code",
   "execution_count": null,
   "metadata": {},
   "outputs": [],
   "source": [
    "c.rstrip()"
   ]
  },
  {
   "cell_type": "markdown",
   "metadata": {},
   "source": [
    "### Cadenas raw"
   ]
  },
  {
   "cell_type": "code",
   "execution_count": null,
   "metadata": {},
   "outputs": [],
   "source": [
    "a = \"el sentido de \\\n",
    "la vida\"\n",
    "b = r\"el sentido de \\la vida\"\n",
    "c = \"\"\"el sentido de\n",
    "la vida\"\"\""
   ]
  },
  {
   "cell_type": "code",
   "execution_count": null,
   "metadata": {},
   "outputs": [],
   "source": [
    "a"
   ]
  },
  {
   "cell_type": "code",
   "execution_count": null,
   "metadata": {},
   "outputs": [],
   "source": [
    "b"
   ]
  },
  {
   "cell_type": "code",
   "execution_count": null,
   "metadata": {},
   "outputs": [],
   "source": [
    "c"
   ]
  },
  {
   "cell_type": "code",
   "execution_count": null,
   "metadata": {},
   "outputs": [],
   "source": [
    "print(a)"
   ]
  },
  {
   "cell_type": "code",
   "execution_count": null,
   "metadata": {},
   "outputs": [],
   "source": [
    "print(b)"
   ]
  },
  {
   "cell_type": "code",
   "execution_count": null,
   "metadata": {},
   "outputs": [],
   "source": [
    "print(c)"
   ]
  },
  {
   "cell_type": "markdown",
   "metadata": {},
   "source": [
    "## Cadenas unicode\n",
    "\n",
    "* En Python 3 las cadenas (la clase 'str') son cadenas unicode\n",
    "    - Esto no pasaba en Python 2.\n",
    "    \n",
    "    \n",
    "* **len** de una cadena indica el número de símbolos que tiene la cadena, independientemente de la cantidad de bytes utilizados para codificarlos.\n",
    "\n",
    "\n",
    "* Python 3 tiene una clase, **bytes**, equivalente a las cadenas en Python 2. En este caso **len** indicará la cantidad de bytes utilizados."
   ]
  },
  {
   "cell_type": "code",
   "execution_count": null,
   "metadata": {},
   "outputs": [],
   "source": [
    "# si todo es ASCII 'str' y 'bytes' coinciden.\n",
    "\n",
    "hello = \"hola\"\n",
    "b = bytes(hello, 'utf8')\n",
    "print(hello)\n",
    "print(type(hello))\n",
    "print(len(hello))\n",
    "print('-'*5)\n",
    "print(b)\n",
    "print(type(b))\n",
    "print(len(b))\n",
    "print('-'*5)\n",
    "print(hello == b)"
   ]
  },
  {
   "cell_type": "code",
   "execution_count": null,
   "metadata": {},
   "outputs": [],
   "source": [
    "# los problemas comienzan cuando utilizamos \"unicode\"\n",
    "\n",
    "hello = \"你好\"\n",
    "b = bytes(hello, 'utf8')\n",
    "print(hello)\n",
    "print(type(hello))\n",
    "print(len(hello))\n",
    "print('-'*5)\n",
    "print(b)\n",
    "print(type(b))\n",
    "print(len(b))\n",
    "print('-'*5)\n",
    "print(hello == b)"
   ]
  },
  {
   "cell_type": "markdown",
   "metadata": {},
   "source": [
    "## Cadenas unicode\n",
    "\n",
    "\n",
    "* Conclusión: en Python 3 utiliza siempre cadenas unicode **str** a no ser que sepas lo que haces.\n",
    "\n",
    "\n",
    "* Afortunadamente esta es la opción por defecto en Python 3 ;-)"
   ]
  },
  {
   "cell_type": "markdown",
   "metadata": {},
   "source": [
    "## Formato de cadenas\n",
    "\n",
    "#### Formato simple:"
   ]
  },
  {
   "cell_type": "code",
   "execution_count": null,
   "metadata": {},
   "outputs": [],
   "source": [
    "print(3, \"es el numero que se contará, y el número de la cuenta será\", 3,\". No se contarán\", 4, \"ni se contarán\", 2,\", salvo para seguir después a\",3,\".\")"
   ]
  },
  {
   "cell_type": "code",
   "execution_count": null,
   "metadata": {},
   "outputs": [],
   "source": [
    "print(3, \"es el numero que se contará, y el número de la cuenta será\", 3,\n",
    "       \". No se contarán\", 4, \"ni se contarán\", 2,\", salvo para seguir después a\",3,\".\")"
   ]
  },
  {
   "cell_type": "code",
   "execution_count": null,
   "metadata": {},
   "outputs": [],
   "source": [
    "cad = 3, \"es el numero que se contará, y el número de la cuenta será\", 3,\". No se contarán\", 4, \"ni se contarán\", 2,\", salvo para seguir después a\",3,\".\"\n",
    "type(cad)"
   ]
  },
  {
   "cell_type": "code",
   "execution_count": null,
   "metadata": {},
   "outputs": [],
   "source": [
    "cad = str(3) + \" es el numero que se contará, y el número de la cuenta será \" + str(3) + \". No se contarán \" + str(4) + \" ni se contarán \" + str(2) + \", salvo para seguir después a \" + str(3) + \".\"\n",
    "type(cad)"
   ]
  },
  {
   "cell_type": "code",
   "execution_count": null,
   "metadata": {},
   "outputs": [],
   "source": [
    "cad = str(3) + \" es el numero que se contará, y el número de la cuenta será \" + \\\n",
    "        str(3) + \". No se contarán \" + str(4) + \" ni se contarán \" + str(2) +  \\\n",
    "        \", salvo para seguir después a \" + str(3) + \".\"\n",
    "type(cad)"
   ]
  },
  {
   "cell_type": "markdown",
   "metadata": {},
   "source": [
    "## Formato de cadenas\n",
    "\n",
    "### Como el printf de C:"
   ]
  },
  {
   "cell_type": "code",
   "execution_count": null,
   "metadata": {},
   "outputs": [],
   "source": [
    "print(\"%d es el numero que se contará, y el número de la cuenta será %d. No se contarán %d ni se contarán %d, salvo para seguir después a %d.\" % (3,3,4,2,3) )"
   ]
  },
  {
   "cell_type": "code",
   "execution_count": null,
   "metadata": {},
   "outputs": [],
   "source": [
    "print(\"%d es el numero que se contará, y el número de la cuenta será %d. \\\n",
    "No se contarán %d ni se contarán %d, salvo para seguir después a %d.\" % (3,3,4,2,3) )"
   ]
  },
  {
   "cell_type": "code",
   "execution_count": null,
   "metadata": {},
   "outputs": [],
   "source": [
    "print(\"%s es una cadena, %03d es un número\" % (\"spam\", 3))"
   ]
  },
  {
   "cell_type": "code",
   "execution_count": null,
   "metadata": {},
   "outputs": [],
   "source": [
    "print(\"%s, %s, %s\" % (\"spam\", \"spam\", \"spam\"))"
   ]
  },
  {
   "cell_type": "code",
   "execution_count": null,
   "metadata": {},
   "outputs": [],
   "source": [
    "cad = \"%s, %s, %s\" % (\"spam\", \"spam\", \"spam\")\n",
    "type(cad)"
   ]
  },
  {
   "cell_type": "code",
   "execution_count": null,
   "metadata": {},
   "outputs": [],
   "source": [
    "print(\"% es un porcentaje\")"
   ]
  },
  {
   "cell_type": "markdown",
   "metadata": {},
   "source": [
    "## Formato de cadenas\n",
    "\n",
    "### Formato avanzado:"
   ]
  },
  {
   "cell_type": "code",
   "execution_count": null,
   "metadata": {},
   "outputs": [],
   "source": [
    "print(\"{0:d} es el numero que se contará, y el número de la cuenta será {0:d}. No se contarán {2:d} ni se contarán {1:d}, salvo para seguir después a {0:d}.\".format(3, 2, 4))"
   ]
  },
  {
   "cell_type": "code",
   "execution_count": null,
   "metadata": {},
   "outputs": [],
   "source": [
    "print(\"{0:d} es el numero que se contará, y el número de la cuenta será {0:d}. \\\n",
    "No se contarán {2:d} ni se contarán {1:d}, salvo para seguir después a {0:d}.\".format(3, 2, 4))"
   ]
  },
  {
   "cell_type": "code",
   "execution_count": null,
   "metadata": {},
   "outputs": [],
   "source": [
    "print(\"{correcto:d} es el numero que se contará, \\\n",
    "y el número de la cuenta será {correcto:d}. No se contarán {alto:d} ni se contarán {bajo:d}, \\\n",
    "salvo para seguir después a {correcto:d}.\".format(correcto=3, bajo=2, alto=4))"
   ]
  },
  {
   "cell_type": "code",
   "execution_count": null,
   "metadata": {},
   "outputs": [],
   "source": [
    "print(\"{:s} es una cadena, {:03d} es un número\".format(\"spam\", 3))"
   ]
  },
  {
   "cell_type": "code",
   "execution_count": null,
   "metadata": {},
   "outputs": [],
   "source": [
    "print(\"{0:s}, {0:s}, {0:s}\".format(\"spam\"))"
   ]
  },
  {
   "cell_type": "code",
   "execution_count": null,
   "metadata": {},
   "outputs": [],
   "source": [
    "cad = \"{0:s}, {0:s}, {0:s}\".format(\"spam\")\n",
    "type(cad)"
   ]
  },
  {
   "cell_type": "markdown",
   "metadata": {},
   "source": [
    "# Entrada\n",
    "\n",
    "> * input([mensaje]). Muestra el mensaje y lee una línea de entrada, la convierte en una cadena (quitando la marca de nueva línea final), y la devuelve. \n",
    "\n"
   ]
  },
  {
   "cell_type": "code",
   "execution_count": null,
   "metadata": {},
   "outputs": [],
   "source": [
    "color = \"negro\" if not INTERACTION else input('¿Cúal es tu ...... color favorito?:')\n",
    "print(\"el '%s' mola\" % color)"
   ]
  },
  {
   "cell_type": "markdown",
   "metadata": {},
   "source": [
    "# Listas\n",
    "\n",
    "Secuencias modificables de objetos (pueden ser de distintos tipos)\n"
   ]
  },
  {
   "cell_type": "code",
   "execution_count": null,
   "metadata": {},
   "outputs": [],
   "source": [
    "# Listas\n",
    "l1 = [1, 2, 3, 4, 5] # una lista\n",
    "l1"
   ]
  },
  {
   "cell_type": "code",
   "execution_count": null,
   "metadata": {},
   "outputs": [],
   "source": [
    "l2 = [\"caballeros\", \"mesa\", \"cuadrada\"] # otra lista\n",
    "l2"
   ]
  },
  {
   "cell_type": "code",
   "execution_count": null,
   "metadata": {},
   "outputs": [],
   "source": [
    "l3 = l1 + l2 # una tercera lista\n",
    "l3"
   ]
  },
  {
   "cell_type": "code",
   "execution_count": null,
   "metadata": {},
   "outputs": [],
   "source": [
    "l3[5] # la posición del primer elemento es la 0"
   ]
  },
  {
   "cell_type": "code",
   "execution_count": null,
   "metadata": {},
   "outputs": [],
   "source": [
    "l3[-1] # con un índice negativo se cuenta desde el final de la lista"
   ]
  },
  {
   "cell_type": "markdown",
   "metadata": {
    "collapsed": true
   },
   "source": [
    "## Listas\n",
    "\n",
    "### Métodos sobre listas:\n",
    "\n",
    "* \\+ (concatenación)\n",
    "* \\* (repetición de la lista)\n",
    "* in, not in (está en)\n",
    "* cad[a] (elemento de una lista)\n",
    "* cad[a:b] (sublista)\n",
    "* cad[a:b:c] (sublista con salto !=1)\n",
    "* len(cad) (longitud de la lista)\n",
    "* min(cad) (elemento \"menor\")\n",
    "* max(cad) (elemento \"mayor)\n",
    "* comparativas lógicas (<, >, <=, >=, <>)"
   ]
  },
  {
   "cell_type": "code",
   "execution_count": null,
   "metadata": {},
   "outputs": [],
   "source": [
    "l1 + l2"
   ]
  },
  {
   "cell_type": "code",
   "execution_count": null,
   "metadata": {},
   "outputs": [],
   "source": [
    "l1 * 3"
   ]
  },
  {
   "cell_type": "code",
   "execution_count": null,
   "metadata": {},
   "outputs": [],
   "source": [
    "'caballeros' in l1"
   ]
  },
  {
   "cell_type": "code",
   "execution_count": null,
   "metadata": {},
   "outputs": [],
   "source": [
    "'caballeros' in l2"
   ]
  },
  {
   "cell_type": "code",
   "execution_count": null,
   "metadata": {},
   "outputs": [],
   "source": [
    "l2[1]"
   ]
  },
  {
   "cell_type": "code",
   "execution_count": null,
   "metadata": {},
   "outputs": [],
   "source": [
    "l3[4:7]"
   ]
  },
  {
   "cell_type": "code",
   "execution_count": null,
   "metadata": {},
   "outputs": [],
   "source": [
    "l3[4:-1]"
   ]
  },
  {
   "cell_type": "code",
   "execution_count": null,
   "metadata": {},
   "outputs": [],
   "source": [
    "l3[2:-1:3]"
   ]
  },
  {
   "cell_type": "code",
   "execution_count": null,
   "metadata": {},
   "outputs": [],
   "source": [
    "len(l1)"
   ]
  },
  {
   "cell_type": "code",
   "execution_count": null,
   "metadata": {},
   "outputs": [],
   "source": [
    "max(l1)"
   ]
  },
  {
   "cell_type": "code",
   "execution_count": null,
   "metadata": {},
   "outputs": [],
   "source": [
    "min(l2)"
   ]
  },
  {
   "cell_type": "code",
   "execution_count": null,
   "metadata": {},
   "outputs": [],
   "source": [
    "l1 > l3"
   ]
  },
  {
   "cell_type": "markdown",
   "metadata": {
    "collapsed": true
   },
   "source": [
    "## Listas\n",
    "\n",
    "### Métodos sobre listas:\n",
    "\n",
    "* append(x): Añade un elemento al final de la lista. \n",
    "* extend(L): Amplia la lista añadiendo al final todos los elementos de la lista dada. \n",
    "* insert(i, x): Inserta un elemento en una posición dada. El primer argumento es el índice y el segundo argumento es el elemento a añadir.\n",
    "\n",
    "    - a.insert(0, x) inserta el elemento x como primer elemento de la lista a, y a.insert(len(a), x) es equivalente a a.append(x). \n",
    "* remove(x): Elimina el primer elemento de la lista cuyo valor es x. Se genera un error si no existe el elemento. \n",
    " "
   ]
  },
  {
   "cell_type": "code",
   "execution_count": null,
   "metadata": {},
   "outputs": [],
   "source": [
    "m = [\"Eric\"]\n",
    "m"
   ]
  },
  {
   "cell_type": "code",
   "execution_count": null,
   "metadata": {},
   "outputs": [],
   "source": [
    "m.append(\"John\")\n",
    "m"
   ]
  },
  {
   "cell_type": "code",
   "execution_count": null,
   "metadata": {},
   "outputs": [],
   "source": [
    "m.extend([\"Michael\", \"Graham\"])\n",
    "m"
   ]
  },
  {
   "cell_type": "code",
   "execution_count": null,
   "metadata": {},
   "outputs": [],
   "source": [
    "m.insert(2, \"Terry\")\n",
    "m"
   ]
  },
  {
   "cell_type": "code",
   "execution_count": null,
   "metadata": {},
   "outputs": [],
   "source": [
    "m.insert(0, \"spam\")\n",
    "m"
   ]
  },
  {
   "cell_type": "code",
   "execution_count": null,
   "metadata": {},
   "outputs": [],
   "source": [
    "m.insert(-1, \"spam\")\n",
    "m"
   ]
  },
  {
   "cell_type": "markdown",
   "metadata": {},
   "source": [
    "## Listas\n",
    " \n",
    "### Métodos sobre listas:\n",
    "\n",
    "* pop([i]): Quita de la lista el elemento que ocupa la posición indicada y lo devuelve como resultado. Si no se especifica un índice, a.pop() extrae y devuelve el último elemento de la lista. \n",
    "* index(x): Devuelve el índice del primer elemento cuyo valor es x. Si no existe ese elemento se genera un error. \n",
    "* count(x): Devuelve el número de veces que aparece x en la lista. \n",
    "* sort(): Ordena los elementos de la lista, en su lugar (sin crear una lista nueva). \n",
    "* reverse(): Invierte los elementos de la lista, en su lugar (sin crear una lista nueva). "
   ]
  },
  {
   "cell_type": "markdown",
   "metadata": {},
   "source": [
    "## Tuplas\n",
    "\n",
    "* Secuencias NO modificables de objetos (no necesariamente del mismo tipo)\n",
    " \n",
    "* Muy parecidas a las listas pero no modificables.\n",
    "\n",
    "* Se pueden utilizar como claves para un diccionario."
   ]
  },
  {
   "cell_type": "code",
   "execution_count": null,
   "metadata": {},
   "outputs": [],
   "source": [
    "t1 = (1, 2, 3, 4, 5) # una tupla\n",
    "t1"
   ]
  },
  {
   "cell_type": "code",
   "execution_count": null,
   "metadata": {},
   "outputs": [],
   "source": [
    "t2 = (\"caballeros\", \"mesa\", \"cuadrada\") # otra tupla\n",
    "t2"
   ]
  },
  {
   "cell_type": "code",
   "execution_count": null,
   "metadata": {},
   "outputs": [],
   "source": [
    "t2[1] # la posición del primer elemento es la 0"
   ]
  },
  {
   "cell_type": "code",
   "execution_count": null,
   "metadata": {},
   "outputs": [],
   "source": [
    "t2[-1] # con un índice negativo se cuenta desde el final de la lista"
   ]
  },
  {
   "cell_type": "code",
   "execution_count": null,
   "metadata": {},
   "outputs": [],
   "source": [
    "try:\n",
    "    t2[1] = \"silla\"\n",
    "except TypeError as exp:    \n",
    "    print(\"TypeError\")\n",
    "    print(exp.args)"
   ]
  },
  {
   "cell_type": "code",
   "execution_count": null,
   "metadata": {},
   "outputs": [],
   "source": [
    "a = (1, 2, \"tres\", 4, 5) # a es una tupla\n",
    "b = 1, 2, \"tres\", 4, 5 # b es una tupla\n",
    "c = () # c es una tupla\n",
    "type(c)"
   ]
  },
  {
   "cell_type": "code",
   "execution_count": null,
   "metadata": {},
   "outputs": [],
   "source": [
    "d = (5-4) # d NO es una tupla\n",
    "type(d)"
   ]
  },
  {
   "cell_type": "code",
   "execution_count": null,
   "metadata": {},
   "outputs": [],
   "source": [
    "e = (5-4,) # e SI es una tupla\n",
    "type(e)"
   ]
  },
  {
   "cell_type": "code",
   "execution_count": null,
   "metadata": {},
   "outputs": [],
   "source": [
    "f = 5-4, # f también es una tupla\n",
    "type(f)"
   ]
  },
  {
   "cell_type": "markdown",
   "metadata": {
    "collapsed": true
   },
   "source": [
    "## Diccionarios\n",
    "\n",
    "* Objetos indexados por clave y no por posición (hash)\n",
    "* Las claves deben ser objetos no modificables (números, cadenas, tuplas)\n",
    "* Los valores pueden ser cualquier objeto"
   ]
  },
  {
   "cell_type": "code",
   "execution_count": null,
   "metadata": {},
   "outputs": [],
   "source": [
    "d = {} # un diccionario vacío\n",
    "d = {\"Graham\": \"Chapman\", \"Eric\": \"Idle\", \"Terry\": \"Gilliam\"}\n",
    "d"
   ]
  },
  {
   "cell_type": "code",
   "execution_count": null,
   "metadata": {},
   "outputs": [],
   "source": [
    "d[\"John\"] = \"Cleese\" # añadir un elemento al diccionario\n",
    "d"
   ]
  },
  {
   "cell_type": "code",
   "execution_count": null,
   "metadata": {},
   "outputs": [],
   "source": [
    "d[\"Terry\"] = \"Jones\" # si la clave ya existe se cambia el valor\n",
    "d"
   ]
  },
  {
   "cell_type": "markdown",
   "metadata": {
    "collapsed": true
   },
   "source": [
    "## Diccionarios\n",
    "\n",
    "Métodos sobre diccionarios:\n",
    "\n",
    "* get(k[,vdefecto]): devuelve el valor asociado a la clave k si existe, si no existe se devuelve vdefecto, si no se ha especificado se devuelve None. \n",
    "* setdefault(k[,vdefecto]): equivalente a get(k,d) pero asignando el valor vdefecto a la clave k si no existe ya en el diccionario.  \n",
    "* has_key(x): cierto si x es una clave del diccionario. \n",
    "* items(): devuelve una lista de pares (clave, valor). \n",
    "* keys(): devuelve una lista con las claves del diccionario. \n",
    "* values(): devuelve una lista con los valores del diccionario. \n",
    "* pop(k[,vdefecto]): borra la entrada con clave k del diccionario y devuelve el valor asociado a ella. Si la clave no existe se devuelve el valor vdefecto, si no se ha especificado se genera un KeyError. \n",
    "* popitem(): devuelve una tupla (clave, valor) y la borra del diccionario."
   ]
  },
  {
   "cell_type": "code",
   "execution_count": null,
   "metadata": {},
   "outputs": [],
   "source": [
    "\"Michael\" in d # buscar entre las claves de un diccionario"
   ]
  },
  {
   "cell_type": "code",
   "execution_count": null,
   "metadata": {},
   "outputs": [],
   "source": [
    "d.keys() # las claves del diccionario"
   ]
  },
  {
   "cell_type": "code",
   "execution_count": null,
   "metadata": {},
   "outputs": [],
   "source": [
    "d.values() # los valores del diccionario"
   ]
  },
  {
   "cell_type": "code",
   "execution_count": null,
   "metadata": {},
   "outputs": [],
   "source": [
    "d.items() # pares (clave, valor)"
   ]
  },
  {
   "cell_type": "code",
   "execution_count": null,
   "metadata": {},
   "outputs": [],
   "source": [
    "for x in d.items():\n",
    "    print(x)"
   ]
  },
  {
   "cell_type": "code",
   "execution_count": null,
   "metadata": {},
   "outputs": [],
   "source": [
    "try:\n",
    "    print(d[\"Michael\"])\n",
    "except KeyError as exp:\n",
    "    print(\"KeyError\")\n",
    "    print(exp)\n",
    "    print(exp.__doc__)"
   ]
  },
  {
   "cell_type": "code",
   "execution_count": null,
   "metadata": {},
   "outputs": [],
   "source": [
    "d.get(\"Michael\")"
   ]
  },
  {
   "cell_type": "code",
   "execution_count": null,
   "metadata": {},
   "outputs": [],
   "source": [
    "d.get(\"Michael\", \"no está\")"
   ]
  },
  {
   "cell_type": "code",
   "execution_count": null,
   "metadata": {},
   "outputs": [],
   "source": [
    "d"
   ]
  },
  {
   "cell_type": "code",
   "execution_count": null,
   "metadata": {},
   "outputs": [],
   "source": [
    "d.setdefault(\"John\", \"no está\")"
   ]
  },
  {
   "cell_type": "code",
   "execution_count": null,
   "metadata": {},
   "outputs": [],
   "source": [
    "d.get(\"Michael\", \"no está\")"
   ]
  },
  {
   "cell_type": "code",
   "execution_count": null,
   "metadata": {},
   "outputs": [],
   "source": [
    "d.setdefault(\"Michael\", \"no está\")"
   ]
  },
  {
   "cell_type": "code",
   "execution_count": null,
   "metadata": {},
   "outputs": [],
   "source": [
    "d"
   ]
  },
  {
   "cell_type": "markdown",
   "metadata": {},
   "source": [
    "## Listas\n",
    " \n",
    "### Matrices (lista de listas o diccionarios):\n",
    " \n",
    "* Python no tiene un tipo básico matriz. \n",
    "* Se puede simular una matriz creando una lista cuyos elementos sean otra lista.\n",
    "* Se puede simular con diccionarios accesibles por tuplas.\n",
    "* Muy fáciles de utilizar. \n",
    "* El tipo de datos de cada celda puede ser distinto. \n",
    "* Poco eficientes. \n",
    "* No necesariamente cuadradas. \n",
    "* Existen librerías para trabajar con matrices \"de verdad\" (numpy) "
   ]
  },
  {
   "cell_type": "markdown",
   "metadata": {},
   "source": [
    "## Listas\n",
    " \n",
    "### Matrices (lista de listas o diccionarios):\n",
    " \n",
    "* Python no tiene un tipo básico matriz. \n",
    "* Se puede simular una matriz creando una lista cuyos elementos sean otra lista.\n",
    "* Se puede simular con diccionarios accesibles por tuplas.\n",
    "\n",
    "> Ejemplo:\n",
    "\n",
    "\n",
    "| 23 | 17 |  8 | 13 |\n",
    "|---:|---:|---:|---:|\n",
    "| 25 | 18 |  5 | 12 |\n",
    "| 29 | 24 | 16 | 27 |"
   ]
  },
  {
   "cell_type": "code",
   "execution_count": null,
   "metadata": {},
   "outputs": [],
   "source": [
    "# Matriz como lista de listas\n",
    "\n",
    "M = [\n",
    "    [23, 17, 8, 13],\n",
    "    [25, 18, 5, 12],\n",
    "    [29, 24, 16, 27]\n",
    "    ]\n",
    "for i in range(len(M)):\n",
    "    for j in range(len(M[0])):\n",
    "        print(\"%3d\" % M[i][j], end=' ')\n",
    "    print()"
   ]
  },
  {
   "cell_type": "code",
   "execution_count": null,
   "metadata": {},
   "outputs": [],
   "source": [
    "# Matriz como diccionario accedido con tuplas\n",
    "\n",
    "M = {\n",
    "    (0, 0): 23, (0, 1): 17, (0, 2): 8, (0, 3): 13,\n",
    "    (1, 0): 25, (1, 1): 18, (1, 2): 5, (1, 3): 12,\n",
    "    (2, 0): 29, (2, 1): 24, (2, 2): 16, (2, 3): 27,\n",
    "    }\n",
    "for i in range(3):\n",
    "    for j in range(4):\n",
    "        print(\"%3d\" % M[i, j], end=' ') # Se puede acceder como: \"M[(i, j)]\" o simplemente M[i, j]\n",
    "    print()"
   ]
  },
  {
   "cell_type": "markdown",
   "metadata": {
    "collapsed": true
   },
   "source": [
    "## range (rangos)\n",
    " \n",
    "* ** range(stop)** ó **range(start, stop[, step])**: Crea un rango a partir de una progresión aritmética.\n",
    "\n",
    "    -Se suele utilizar en los bucles for. \n",
    "    \n",
    "    -Equivalente a xrange de Python 2."
   ]
  },
  {
   "cell_type": "code",
   "execution_count": null,
   "metadata": {},
   "outputs": [],
   "source": [
    "range(1, 11)"
   ]
  },
  {
   "cell_type": "code",
   "execution_count": null,
   "metadata": {},
   "outputs": [],
   "source": [
    "list(range(1, 11))"
   ]
  },
  {
   "cell_type": "code",
   "execution_count": null,
   "metadata": {},
   "outputs": [],
   "source": [
    "list(range(0, -10, -1))"
   ]
  },
  {
   "cell_type": "code",
   "execution_count": null,
   "metadata": {},
   "outputs": [],
   "source": [
    "list(range(0, -10, -2))"
   ]
  },
  {
   "cell_type": "markdown",
   "metadata": {},
   "source": [
    "# Lógica en Python. Condición\n",
    "\n",
    "* Cualquier valor distinto de **None**, **0**, **''**, **[]** ó **{}** es cierto. \n",
    "\n",
    "* Existe el tipo de datos **bool** y las constantes **True** y **False**.\n",
    "\n",
    "* Lógica de cortocircuito.\n",
    "\n",
    "* Comparaciones: \n",
    "\n",
    "        - Operadores de comparación: ==, >, >=, <, <=, !=, <> \n",
    "\n",
    "        - Conectivas lógicas: and, or, not \n",
    "\n",
    "        - Comparaciones múltiples: 10 <= a <= 20 "
   ]
  },
  {
   "cell_type": "code",
   "execution_count": null,
   "metadata": {},
   "outputs": [],
   "source": [
    "3 > 4 and 10/0 == 2"
   ]
  },
  {
   "cell_type": "code",
   "execution_count": null,
   "metadata": {},
   "outputs": [],
   "source": [
    "try:\n",
    "    3 > 4 or 10/0 == 2\n",
    "except ZeroDivisionError as exp:\n",
    "    print(\"ZeroDivisionError\")\n",
    "    print(exp)\n",
    "    print(exp.__doc__)"
   ]
  },
  {
   "cell_type": "markdown",
   "metadata": {},
   "source": [
    "## Lógica en Python. if"
   ]
  },
  {
   "cell_type": "raw",
   "metadata": {},
   "source": [
    "if condición1:\n",
    "    bloque_si_condición1_cierto\n",
    "elif condición2:\n",
    "    bloque_si_condición1_falsa_y_condición2_cierta\n",
    "elif condición3:\n",
    "    bloque_si_condición1_falsa_condición2_falsa_y_condición3_cierta\n",
    "else:\n",
    "    bloque_si_todas_condiciones_falsas"
   ]
  },
  {
   "cell_type": "markdown",
   "metadata": {},
   "source": [
    "## Bucles. for"
   ]
  },
  {
   "cell_type": "code",
   "execution_count": null,
   "metadata": {},
   "outputs": [],
   "source": [
    "\"\"\"\n",
    "for variable in secuencia:\n",
    "    bloque_1\n",
    "else:\n",
    "    bloque_si_no_se_sale_con_break\n",
    "\"\"\"\n",
    "\n",
    "for x in [\"uno\", \"dos\", \"tres\", \"probando\"]:\n",
    "    print(x)"
   ]
  },
  {
   "cell_type": "code",
   "execution_count": null,
   "metadata": {},
   "outputs": [],
   "source": [
    "n = 15 if not INTERACTION else int(input(\"dime un número:\"))\n",
    "es_primo = True\n",
    "for x in range(2, n):\n",
    "    if n % x == 0:\n",
    "        print(n, \"es igual a\", x, \"*\", n//x)\n",
    "        es_primo = False\n",
    "        break\n",
    "if es_primo:\n",
    "    print(n, \"es un número primo\")"
   ]
  },
  {
   "cell_type": "code",
   "execution_count": null,
   "metadata": {},
   "outputs": [],
   "source": [
    "n= 15 if not INTERACTION else int(input(\"dime un número:\"))\n",
    "for x in range(2, n):\n",
    "    if n % x == 0:\n",
    "        print(n, \"es igual a\", x, \"*\", n//x)\n",
    "        break\n",
    "else:\n",
    "    print(n, \"es un número primo\")"
   ]
  },
  {
   "cell_type": "markdown",
   "metadata": {},
   "source": [
    "## Bucles. while"
   ]
  },
  {
   "cell_type": "code",
   "execution_count": null,
   "metadata": {},
   "outputs": [],
   "source": [
    "if INTERACTION:\n",
    "    seguir = True\n",
    "    while seguir:\n",
    "        nombre = input(\"¿Quién viene a la fiesta? \")\n",
    "        if nombre == \"padres\":\n",
    "            print(\"Cancelamos la fiesta\")\n",
    "            break\n",
    "        elif nombre == \"\":\n",
    "            print(\"Ya estan todos\")\n",
    "            seguir = False\n",
    "        else:\n",
    "            print(\"%s, muy bien\" % nombre)\n",
    "    else:\n",
    "        print(\"¡Será una fiesta divertida! \")"
   ]
  },
  {
   "cell_type": "markdown",
   "metadata": {},
   "source": [
    "## **del**. Borrando en python"
   ]
  },
  {
   "cell_type": "code",
   "execution_count": null,
   "metadata": {},
   "outputs": [],
   "source": [
    "v = 10 # crear una variable y asignarle un valor\n",
    "print(v)"
   ]
  },
  {
   "cell_type": "code",
   "execution_count": null,
   "metadata": {},
   "outputs": [],
   "source": [
    "del v # borramos la variable\n",
    "\n",
    "try:\n",
    "    print(v)\n",
    "except NameError as exp:\n",
    "    print(\"NameError\")\n",
    "    print(exp)\n",
    "    print(exp.__doc__)"
   ]
  },
  {
   "cell_type": "code",
   "execution_count": null,
   "metadata": {},
   "outputs": [],
   "source": [
    "l = [\"huevos\", \"salchicha\", \"tocino\", \"spam\"]\n",
    "del l[2] # borrar elementos de una lista por su posición\n",
    "l\n",
    "['huevos', 'salchicha', 'spam']"
   ]
  },
  {
   "cell_type": "code",
   "execution_count": null,
   "metadata": {},
   "outputs": [],
   "source": [
    "d = {\"Graham\": \"Chapman\", \"Eric\": \"Idle\", \"Terry\": \"Gilliam\"}\n",
    "d"
   ]
  },
  {
   "cell_type": "code",
   "execution_count": null,
   "metadata": {},
   "outputs": [],
   "source": [
    "del d[\"Eric\"] # borrar elementos de un diccionario por clave\n",
    "d"
   ]
  },
  {
   "cell_type": "markdown",
   "metadata": {},
   "source": [
    "## Ficheros.\n",
    "\n",
    "Abrir un fichero:\n",
    "\n",
    "* f = open(ruta[, modo][, ...])\n",
    "\n",
    "* modo puede ser, estre otros: \"r\", \"w\", \"a\" para leer, escribir o añadir.\n",
    "    - Si el modo es \"r\" y el fichero no existe, se genera un error.\n",
    "     - Si el modo es \"w\" o \"a\" y el fichero no existe, se crea.\n",
    "     - Añadiendo una \"U\" al modo se abre el fichero con soporte universal de salto de línea; todos los saltos de línea serán \"\\n\" independientemente del SO utilizado para guardar el fichero. No aplicable a \"w\".\n",
    "\n",
    "Cerrar un fichero:\n",
    "\n",
    "* f.close()"
   ]
  },
  {
   "cell_type": "markdown",
   "metadata": {},
   "source": [
    "## Ficheros\n",
    " \n",
    "Métodos sobre ficheros:\n",
    "\n",
    "* close(): cierra el fichero. \n",
    "* read([tamaño]): devuelve una cadena con todo el contenido del fichero. \n",
    "* readline([tamaño]): devuelve una cadena con una línea del fichero. \n",
    "* readlines([tamaño]): devuelve una lista de cadenas con todas las líneas del fichero.\n",
    "* seek(desplaza[, desde]): desplaza el fichero a una nueva posición.  \n",
    "* tell(): devuelve la posición actual del fichero. \n",
    "* truncate([tamaño]): trunca el fichero dejándolo en tamaño bytes. Por defecto trunca hasta la posición actual del fichero.\n",
    "* write(cadena): escribe la cadena en el fichero. \n",
    "* writelines(secuencia_de_cadenas): escribe la secuencia de cadenas en el fichero. "
   ]
  },
  {
   "cell_type": "code",
   "execution_count": null,
   "metadata": {},
   "outputs": [],
   "source": [
    "fichero = open(\"spam.txt\", \"r\")\n",
    "c = fichero.read()         # todo el fichero en una cadena\n",
    "c"
   ]
  },
  {
   "cell_type": "code",
   "execution_count": null,
   "metadata": {},
   "outputs": [],
   "source": [
    "c.split('\\n')"
   ]
  },
  {
   "cell_type": "code",
   "execution_count": null,
   "metadata": {},
   "outputs": [],
   "source": [
    "fichero.seek(0,0)  #  nos ponemos al principio del fichero\n",
    "l2 = fichero.readlines() # todo el fichero en una lista\n",
    "l2"
   ]
  },
  {
   "cell_type": "code",
   "execution_count": null,
   "metadata": {},
   "outputs": [],
   "source": [
    "fichero.seek(0,0) # otra vez al principio\n",
    "l3 = []\n",
    "for c in fichero:\n",
    "    l3.append(c)\n",
    "l3"
   ]
  },
  {
   "cell_type": "markdown",
   "metadata": {},
   "source": [
    "## Funciones\n",
    "\n",
    "* No hay procedimientos en Python: Todas las funciones devuelven un valor, aunque puede ser None. \n",
    "\n",
    "* Existen funciones sin nombre: lambda (no en python 3). \n",
    "\n",
    "* Se pueden documentar con una cadena que estará disponible en tiempo de ejecución. \n",
    "\n",
    "* Dentro de una función se puede referenciar a las variables globales pero no asignarles valores sino se \"declaran\" como globales previamente. \n",
    "\n",
    "* El paso de parámetros siempre es por valor. El valor es la referencia al objeto ;-). \n",
    "\n",
    "* Pueden tener parámetros con valores por defecto. \n",
    "\n",
    "* Se puede referenciar a los parámetros por su nombre. \n",
    "\n",
    "* Lista y diccionarios de parámetros. "
   ]
  },
  {
   "cell_type": "code",
   "execution_count": null,
   "metadata": {},
   "outputs": [],
   "source": [
    "def hola():\n",
    "    \"\"\"\n",
    "    hola()\n",
    "    saluda al mundo\n",
    "    \"\"\"\n",
    "    print(\"hola mundo!\")\n",
    "\n",
    "    \n",
    "def producto(x,y):\n",
    "    \"\"\"\n",
    "    producto(x,y): -> x*y\n",
    "    calcula el producto de dos 'números'\n",
    "    \"\"\"\n",
    "    return x * y    \n",
    "\n",
    "\n",
    "def producto1(x, y):\n",
    "    resultado = x * y\n",
    "    return resultado\n",
    "\n",
    "\n",
    "def producto2(x, y=2):\n",
    "    r = x * y\n",
    "    print(x, \"*\", y, \"=\", r)\n",
    "\n",
    "    \n",
    "def producto3(x, y, z):\n",
    "    resultado = x * y + z\n",
    "    return resultado"
   ]
  },
  {
   "cell_type": "code",
   "execution_count": null,
   "metadata": {},
   "outputs": [],
   "source": [
    "producto3(2, 3 , 4)"
   ]
  },
  {
   "cell_type": "code",
   "execution_count": null,
   "metadata": {},
   "outputs": [],
   "source": [
    "producto3(y=2, z=3, x=4)"
   ]
  },
  {
   "cell_type": "code",
   "execution_count": null,
   "metadata": {},
   "outputs": [],
   "source": [
    "def muestra(x,y,z):\n",
    "    print(x, y, z)\n",
    "    print('-' * 20)\n",
    "\n",
    "    \n",
    "muestra('hola', 20, 'spam')\n",
    "muestra(z = 'spam', y = 20, x = 'hola')\n",
    "    \n",
    "a = ['hola', 20, 'spam']\n",
    "muestra(*a) # una lista como parámetros\n",
    "\n",
    "b = {'x': 'hola', 'y': 20, 'z': 'spam'}\n",
    "muestra(**b) # un diccionario como parámetros\n",
    "\n",
    "c = {'y': 20, 'z': 'spam'}\n",
    "muestra('hola', **c) # un diccionario como parte de los parámetros \n"
   ]
  },
  {
   "cell_type": "code",
   "execution_count": null,
   "metadata": {},
   "outputs": [],
   "source": [
    "def muestra2(x, *y):\n",
    "    print(x, y)\n",
    "    print('-' * 20)\n",
    "\n",
    "muestra2('hola')\n",
    "muestra2('hola', 20)\n",
    "muestra2('hola', 20, 'spam')"
   ]
  },
  {
   "cell_type": "code",
   "execution_count": null,
   "metadata": {},
   "outputs": [],
   "source": [
    "def muestra3(x, **y):\n",
    "    print(x, y)\n",
    "    print('-' * 20)\n",
    "\n",
    "muestra3('hola')\n",
    "muestra3('hola', a = 20)\n",
    "muestra3('hola', y = 20)\n",
    "muestra3('hola', y = 20, z = 'spam')"
   ]
  },
  {
   "cell_type": "markdown",
   "metadata": {
    "collapsed": true
   },
   "source": [
    "## Módulos"
   ]
  },
  {
   "cell_type": "code",
   "execution_count": null,
   "metadata": {},
   "outputs": [],
   "source": [
    "#importamos el módulo\n",
    "\n",
    "import mates\n",
    "\n",
    "help(mates)\n",
    "print(mates.producto.__doc__)\n",
    "print(mates.__doc__)\n",
    "prd = mates.producto\n",
    "print(mates.producto(10,3))\n",
    "print(prd(10, 3))"
   ]
  },
  {
   "cell_type": "code",
   "execution_count": null,
   "metadata": {},
   "outputs": [],
   "source": [
    "# Otra forma alternativa\n",
    "\n",
    "from mates import *\n",
    "\n",
    "print(producto(10,3))\n",
    "print(producto.__doc__)\n",
    "print(mates.__doc__)"
   ]
  },
  {
   "cell_type": "markdown",
   "metadata": {},
   "source": [
    "## Clases"
   ]
  },
  {
   "cell_type": "code",
   "execution_count": null,
   "metadata": {},
   "outputs": [],
   "source": [
    "class Persona():\n",
    "    city = \"no_city\"\n",
    "    def __init__(self, **args):\n",
    "        \"\"\"\n",
    "        esta funcion se llama automaticamente cada vez que\n",
    "        se crea un objete de esta clase\n",
    "        \"\"\"\n",
    "        \n",
    "        self.name = args.get('name', \"sin_nombre\")\n",
    "        print(\"Ha nacido '%s' en '%s'.\" % (self.name, self.city))\n",
    "        \n",
    "    \n",
    "    def info(self):\n",
    "        print('-' * 20)\n",
    "        # print(self)\n",
    "        print(id(self))\n",
    "        print(\"Name:\", self.name)\n",
    "        print(\"City:\", self.city)\n",
    "        print('-' * 20)\n",
    "    \n",
    "    def __del__(self):\n",
    "        \"\"\"\n",
    "        si existe se ejecuta al borrar un objeto de esta clase.\n",
    "        Normalmente no se utiliza\n",
    "        \"\"\"\n",
    "        print(\"'%s': Solo es una herida superficial...\" % id(self)) \n",
    "\n",
    "obj = Persona()\n",
    "obj2 = Persona(name = 'Maria')\n",
    "\n",
    "obj.info()\n",
    "obj2.info()\n",
    "\n",
    "obj.name = 'Pepe'\n",
    "obj.info()\n",
    "\n",
    "\n",
    "del obj"
   ]
  },
  {
   "cell_type": "code",
   "execution_count": null,
   "metadata": {},
   "outputs": [],
   "source": [
    "obj2 = 1"
   ]
  },
  {
   "cell_type": "markdown",
   "metadata": {},
   "source": [
    "## Clases. herencia"
   ]
  },
  {
   "cell_type": "code",
   "execution_count": null,
   "metadata": {},
   "outputs": [],
   "source": [
    "class Valencia (Persona):\n",
    "    city = 'Valencia'\n",
    "    def __init__(self, **args):\n",
    "        print(\"Senyor pirotècnic!\")\n",
    "        Persona.__init__(self, **args)\n",
    "        \n",
    "    def __del__(self):\n",
    "        pass\n",
    "        \n",
    "\n",
    "obj = Persona()\n",
    "obj2 = Valencia()\n",
    "obj2.info()\n",
    "\n",
    "print(isinstance(obj2, Valencia))\n",
    "print(isinstance(obj2, Persona))\n",
    "print(isinstance(obj, Valencia))"
   ]
  },
  {
   "cell_type": "markdown",
   "metadata": {
    "collapsed": true
   },
   "source": [
    "## Conjuntos. set\n",
    "\n",
    "### Operadores: \n",
    "\n",
    "* set(): constructor.\n",
    "* s.add(x)\n",
    "\n",
    "\n",
    "* s.issubset(t)\n",
    "* s.issuperset(t)\n",
    "* s.union(t)\n",
    "* s.intersection(t)\n",
    "* s.difference(t)\n",
    "* s.symmetric_difference(t)\n",
    "* s.copy()\n",
    "\n",
    "\n",
    "* len(s)\n",
    "* x in s\n",
    "* x not in s\n",
    "\n",
    "\n"
   ]
  },
  {
   "cell_type": "code",
   "execution_count": null,
   "metadata": {},
   "outputs": [],
   "source": [
    "a = set()\n",
    "a.add(1)\n",
    "a.add(2)\n",
    "a.add(3)\n",
    "a.add(2)\n",
    "b = set([3,4,5])\n",
    "print(a)\n",
    "print(b)"
   ]
  },
  {
   "cell_type": "code",
   "execution_count": null,
   "metadata": {},
   "outputs": [],
   "source": [
    "len(a)"
   ]
  },
  {
   "cell_type": "code",
   "execution_count": null,
   "metadata": {},
   "outputs": [],
   "source": [
    "5 in a"
   ]
  },
  {
   "cell_type": "code",
   "execution_count": null,
   "metadata": {},
   "outputs": [],
   "source": [
    "2 in a"
   ]
  },
  {
   "cell_type": "code",
   "execution_count": null,
   "metadata": {},
   "outputs": [],
   "source": [
    "a.union([4, 8, 2, 9])"
   ]
  },
  {
   "cell_type": "code",
   "execution_count": null,
   "metadata": {},
   "outputs": [],
   "source": [
    "a.intersection([4, 8, 2, 9])"
   ]
  },
  {
   "cell_type": "markdown",
   "metadata": {
    "collapsed": true
   },
   "source": [
    "## copy y deepcopy. Copiando objetos"
   ]
  },
  {
   "cell_type": "code",
   "execution_count": null,
   "metadata": {},
   "outputs": [],
   "source": [
    "a = [1, 2, [3, [\"el tres\"], \"otro tres\"], 4, 5]\n",
    "b = a # b apuntan al mismo objeto que a\n",
    "c = a[:] # c es una nueva lista\n",
    "print(id(a), id(b), id(c))\n",
    "print('-'*5)\n",
    "print(id(a[2]), id(b[2]), id(c[2])) # pero los elementos de a, b y c son los mismos"
   ]
  },
  {
   "cell_type": "code",
   "execution_count": null,
   "metadata": {},
   "outputs": [],
   "source": [
    "from copy import copy, deepcopy # importamos las funciones de copia\n",
    "d = copy(a) # una copia superficial de a\n",
    "e = deepcopy(a) # una copia en profundidad de a\n",
    "print(id(a), id(d), id(e))\n",
    "print('-'*5)\n",
    "print(id(a[2]),id(d[2]),id(e[2]))"
   ]
  },
  {
   "cell_type": "markdown",
   "metadata": {
    "collapsed": true
   },
   "source": [
    "# Programación funcional\n",
    "\n",
    "* Listas autodefinidas (List comprehensions) \n",
    "\n",
    "* Expresiones generadoras \n",
    "\n",
    "* Funciones anónimas: lambda \n",
    "\n",
    "* filter \n",
    "\n",
    "* map \n",
    "\n",
    "* reduce "
   ]
  },
  {
   "cell_type": "markdown",
   "metadata": {
    "collapsed": true
   },
   "source": [
    "# Alguna cosita más\n",
    "\n",
    "\n",
    "* help()\n",
    "\n",
    "* pass \n",
    "\n",
    "* sorted()\n",
    "\n",
    "* reversed() \n",
    "\n",
    "* raise  \n",
    "\n",
    "* Una función es una variable \n",
    "\n",
    "* Herencia en tiempo de ejecución "
   ]
  },
  {
   "cell_type": "markdown",
   "metadata": {
    "collapsed": true
   },
   "source": [
    "## Enlaces Interesantes\n",
    "\n",
    "\n",
    "* http://www.python.org/\n",
    "\n",
    "* http://docs.python.org/3.7/\n",
    "\n",
    "* http://wiki.python.org/\n",
    "\n",
    "* http://www.diveintopython3.net/\n",
    "\n",
    "\n",
    "\n",
    "* https://www.python.org/dev/peps/pep-0008/\n",
    "\n",
    "* https://bioinf.comav.upv.es/courses/linux/python/estilo.html\n",
    "\n",
    "\n",
    "* https://google.github.io/styleguide/pyguide.html\n",
    "\n",
    "\n",
    "* http://www.montypython.com/\n"
   ]
  },
  {
   "cell_type": "markdown",
   "metadata": {},
   "source": [
    "### Sistemas de Almacenamiento y Recuperación de Información\n",
    "\n",
    "*Lluís F. Hurtado* (lhurtado at dsic.upv.es)"
   ]
  }
 ],
 "metadata": {
  "celltoolbar": "Slideshow",
  "kernelspec": {
   "display_name": "Python 3",
   "language": "python",
   "name": "python3"
  },
  "language_info": {
   "codemirror_mode": {
    "name": "ipython",
    "version": 3
   },
   "file_extension": ".py",
   "mimetype": "text/x-python",
   "name": "python",
   "nbconvert_exporter": "python",
   "pygments_lexer": "ipython3",
   "version": "3.7.3"
  }
 },
 "nbformat": 4,
 "nbformat_minor": 1
}
